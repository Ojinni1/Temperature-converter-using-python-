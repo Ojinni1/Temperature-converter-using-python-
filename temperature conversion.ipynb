{
 "cells": [
  {
   "cell_type": "markdown",
   "id": "78c52cfe",
   "metadata": {},
   "source": [
    "# Temperature conversion "
   ]
  },
  {
   "cell_type": "code",
   "execution_count": 23,
   "id": "36ed10c6",
   "metadata": {},
   "outputs": [
    {
     "name": "stdout",
     "output_type": "stream",
     "text": [
      "Enter a value of degrees Fahrenheit: 212\n",
      "212.0 degrees Fahrenheit is: 100.0 degrees Centigrade.\n",
      "Enter a value of degrees Centigrade: 0\n",
      "0.0 degrees centigrade is: 32.0 degrees Centigrade.\n"
     ]
    }
   ],
   "source": [
    "# Fahrenheit to Centigrade: C = (F – 32) × (5/9)\n",
    "\n",
    "def F2C(nDegreesF):\n",
    "    nDegreesC = ((nDegreesF - 32) * (5.0 / 9.0))\n",
    "    return nDegreesC\n",
    "\n",
    "nDegreesF = input('Enter a value of degrees Fahrenheit: ')\n",
    "nDegreesF = float(nDegreesF)\n",
    "convertedTempC = F2C(nDegreesF)\n",
    "\n",
    "\n",
    "print(nDegreesF, 'degrees Fahrenheit is:', convertedTempC, 'degrees Centigrade.')\n",
    "\n",
    "\n",
    "# Centigrade to Fahrenheit: F = (1.8 × C) + 32\n",
    "def C2F(nDegreesC):\n",
    "    nDegreesF = (1.8 * nDegreesC) + 32\n",
    "    return nDegreesF\n",
    "nDegreesC = float(input('Enter a value of degrees Centigrade: '))\n",
    "convertedTempF = C2F(nDegreesC)\n",
    "print(nDegreesC, 'degrees centigrade is:', convertedTempF, 'degrees Centigrade.')"
   ]
  },
  {
   "cell_type": "code",
   "execution_count": 24,
   "id": "647339d8",
   "metadata": {},
   "outputs": [
    {
     "name": "stdout",
     "output_type": "stream",
     "text": [
      "what is your fahrenheit degree? 212\n",
      "your input 212.0 coverted to Centigrade is 100.0\n",
      "what is your centigrade degree? 0\n",
      "your input 0.0 coverted to Centigrade is 32.0\n"
     ]
    }
   ],
   "source": [
    "# Fahrenheit to Centigrade: C = (F – 32) × (5/9)\n",
    "\n",
    "def F2C(nDegreesF):\n",
    "    nDegreesC = ((nDegreesF - 32) * (5.0 / 9.0))\n",
    "    return nDegreesC\n",
    "nDegreesF = float(input('what is your fahrenheit degree? '))\n",
    "convertedTempC = F2C(nDegreesF)\n",
    "print(f'your input {nDegreesF} coverted to Centigrade is {convertedTempC}')\n",
    "\n",
    "\n",
    "\n",
    "# Centigrade to Fahrenheit: F = (1.8 × C) + 32\n",
    "def C2F(nDegreesC):\n",
    "    nDegreesF = (1.8 * nDegreesC) + 32\n",
    "    return nDegreesF\n",
    "nDegreesC = float(input('what is your centigrade degree? '))\n",
    "convertedTempF = C2F(nDegreesC)\n",
    "print(f'your input {nDegreesC} coverted to Centigrade is {convertedTempF}')\n",
    "\n"
   ]
  },
  {
   "cell_type": "code",
   "execution_count": 29,
   "id": "43a54a8a",
   "metadata": {},
   "outputs": [
    {
     "name": "stdout",
     "output_type": "stream",
     "text": [
      "123.45\n"
     ]
    }
   ],
   "source": [
    "print(F2C(C2F(123.45)))"
   ]
  },
  {
   "cell_type": "code",
   "execution_count": null,
   "id": "4ae267f2",
   "metadata": {},
   "outputs": [],
   "source": []
  },
  {
   "cell_type": "code",
   "execution_count": null,
   "id": "8061f935",
   "metadata": {},
   "outputs": [],
   "source": []
  },
  {
   "cell_type": "code",
   "execution_count": null,
   "id": "5c3f431e",
   "metadata": {},
   "outputs": [],
   "source": []
  }
 ],
 "metadata": {
  "kernelspec": {
   "display_name": "Python 3 (ipykernel)",
   "language": "python",
   "name": "python3"
  },
  "language_info": {
   "codemirror_mode": {
    "name": "ipython",
    "version": 3
   },
   "file_extension": ".py",
   "mimetype": "text/x-python",
   "name": "python",
   "nbconvert_exporter": "python",
   "pygments_lexer": "ipython3",
   "version": "3.8.2"
  }
 },
 "nbformat": 4,
 "nbformat_minor": 5
}
